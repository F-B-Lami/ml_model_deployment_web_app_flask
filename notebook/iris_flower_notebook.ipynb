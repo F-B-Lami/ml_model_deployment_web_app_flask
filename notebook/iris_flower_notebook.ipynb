{
 "metadata": {
  "language_info": {
   "codemirror_mode": {
    "name": "ipython",
    "version": 3
   },
   "file_extension": ".py",
   "mimetype": "text/x-python",
   "name": "python",
   "nbconvert_exporter": "python",
   "pygments_lexer": "ipython3",
   "version": "3.8.5"
  },
  "orig_nbformat": 4,
  "kernelspec": {
   "name": "python3",
   "display_name": "Python 3.8.5 64-bit"
  },
  "interpreter": {
   "hash": "31f2aee4e71d21fbe5cf8b01ff0e069b9275f58929596ceb00d14d90e3e16cd6"
  }
 },
 "nbformat": 4,
 "nbformat_minor": 2,
 "cells": [
  {
   "cell_type": "code",
   "execution_count": 7,
   "metadata": {},
   "outputs": [
    {
     "output_type": "stream",
     "name": "stdout",
     "text": [
      "   Id  SepalLengthCm  SepalWidthCm  PetalLengthCm  PetalWidthCm      Species\n0   1            5.1           3.5            1.4           0.2  Iris-setosa\n1   2            4.9           3.0            1.4           0.2  Iris-setosa\n2   3            4.7           3.2            1.3           0.2  Iris-setosa\n3   4            4.6           3.1            1.5           0.2  Iris-setosa\n4   5            5.0           3.6            1.4           0.2  Iris-setosa\n"
     ]
    }
   ],
   "source": [
    "# load and pre-process data\n",
    "import pandas as pd\n",
    "inputFolder = '../data/'\n",
    "df = pd.read_csv(inputFolder + 'iris.csv')\n",
    "print(df.head())"
   ]
  },
  {
   "cell_type": "code",
   "execution_count": 8,
   "metadata": {},
   "outputs": [
    {
     "output_type": "stream",
     "name": "stdout",
     "text": [
      "   SepalLengthCm  SepalWidthCm  PetalLengthCm  PetalWidthCm\n0            5.1           3.5            1.4           0.2\n1            4.9           3.0            1.4           0.2\n2            4.7           3.2            1.3           0.2\n3            4.6           3.1            1.5           0.2\n4            5.0           3.6            1.4           0.2\n0    Iris-setosa\n1    Iris-setosa\n2    Iris-setosa\n3    Iris-setosa\n4    Iris-setosa\nName: Species, dtype: object\n"
     ]
    }
   ],
   "source": [
    "# split data into features and target\n",
    "main_cols = [col for col in df.columns if col not in ['Species', 'Id']]\n",
    "X = df[main_cols]\n",
    "print(X.head())\n",
    "y = df['Species']\n",
    "print(y.head())"
   ]
  },
  {
   "cell_type": "code",
   "execution_count": 9,
   "metadata": {},
   "outputs": [
    {
     "output_type": "stream",
     "name": "stdout",
     "text": [
      "(112, 4)\n     SepalLengthCm  SepalWidthCm  PetalLengthCm  PetalWidthCm\n108            6.7           2.5            5.8           1.8\n126            6.2           2.8            4.8           1.8\n91             6.1           3.0            4.6           1.4\n106            4.9           2.5            4.5           1.7\n65             6.7           3.1            4.4           1.4\n(38, 4)\n     SepalLengthCm  SepalWidthCm  PetalLengthCm  PetalWidthCm\n6              4.6           3.4            1.4           0.3\n137            6.4           3.1            5.5           1.8\n82             5.8           2.7            3.9           1.2\n141            6.9           3.1            5.1           2.3\n0              5.1           3.5            1.4           0.2\n(112,)\n108     Iris-virginica\n126     Iris-virginica\n91     Iris-versicolor\n106     Iris-virginica\n65     Iris-versicolor\nName: Species, dtype: object\n(38,)\n6          Iris-setosa\n137     Iris-virginica\n82     Iris-versicolor\n141     Iris-virginica\n0          Iris-setosa\nName: Species, dtype: object\n"
     ]
    }
   ],
   "source": [
    "# split data in train and test\n",
    "from sklearn.model_selection import train_test_split\n",
    "X_train, X_test, y_train, y_test = train_test_split(X, y,test_size=0.25)\n",
    "print(X_train.shape)\n",
    "print(X_train.head())\n",
    "print(X_test.shape)\n",
    "print(X_test.head())\n",
    "print(y_train.shape)\n",
    "print(y_train.head())\n",
    "print(y_test.shape)\n",
    "print(y_test.head())"
   ]
  },
  {
   "cell_type": "code",
   "execution_count": 10,
   "metadata": {},
   "outputs": [],
   "source": [
    "# model creation\n",
    "from sklearn.ensemble import RandomForestClassifier\n",
    "#create object of RandomForestClassifier \n",
    "model = RandomForestClassifier()"
   ]
  },
  {
   "cell_type": "code",
   "execution_count": 11,
   "metadata": {},
   "outputs": [
    {
     "output_type": "execute_result",
     "data": {
      "text/plain": [
       "1.0"
      ]
     },
     "metadata": {},
     "execution_count": 11
    }
   ],
   "source": [
    "# training model\n",
    "#train model\n",
    "model.fit(X_train, y_train)\n",
    "#print score\n",
    "model.score(X_train,y_train)"
   ]
  },
  {
   "cell_type": "code",
   "execution_count": 12,
   "metadata": {},
   "outputs": [
    {
     "output_type": "execute_result",
     "data": {
      "text/plain": [
       "array(['Iris-setosa', 'Iris-virginica', 'Iris-versicolor',\n",
       "       'Iris-virginica', 'Iris-setosa', 'Iris-virginica', 'Iris-setosa',\n",
       "       'Iris-setosa', 'Iris-setosa', 'Iris-virginica'], dtype=object)"
      ]
     },
     "metadata": {},
     "execution_count": 12
    }
   ],
   "source": [
    "# model prediction\n",
    "#predict X_test data\n",
    "predictions = model.predict(X_test)\n",
    "predictions[:10]"
   ]
  },
  {
   "cell_type": "code",
   "execution_count": 13,
   "metadata": {},
   "outputs": [
    {
     "output_type": "stream",
     "name": "stdout",
     "text": [
      "0.9736842105263158\n[[16  0  0]\n [ 0  8  1]\n [ 0  0 13]]\n                 precision    recall  f1-score   support\n\n    Iris-setosa       1.00      1.00      1.00        16\nIris-versicolor       1.00      0.89      0.94         9\n Iris-virginica       0.93      1.00      0.96        13\n\n       accuracy                           0.97        38\n      macro avg       0.98      0.96      0.97        38\n   weighted avg       0.98      0.97      0.97        38\n\n"
     ]
    }
   ],
   "source": [
    "# scoring\n",
    "from sklearn.metrics import accuracy_score, confusion_matrix, classification_report\n",
    "print(accuracy_score(y_test, predictions))\n",
    "print(confusion_matrix(y_test, predictions))\n",
    "print(classification_report(y_test, predictions))"
   ]
  },
  {
   "cell_type": "code",
   "execution_count": 14,
   "metadata": {},
   "outputs": [
    {
     "output_type": "execute_result",
     "data": {
      "text/plain": [
       "['../model/randomforest_model.pkl']"
      ]
     },
     "metadata": {},
     "execution_count": 14
    }
   ],
   "source": [
    "# saving model\n",
    "# save model in output directory\n",
    "import joblib\n",
    "\n",
    "joblib.dump(model,'../model/randomforest_model.pkl')"
   ]
  },
  {
   "cell_type": "code",
   "execution_count": null,
   "metadata": {},
   "outputs": [],
   "source": []
  }
 ]
}